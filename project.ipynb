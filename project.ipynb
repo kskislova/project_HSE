{
 "cells": [
  {
   "cell_type": "markdown",
   "metadata": {},
   "source": [
    "# Визуализация данных на основе Data Set'а Steam."
   ]
  },
  {
   "cell_type": "markdown",
   "metadata": {},
   "source": [
    "### Загрузка данных"
   ]
  },
  {
   "cell_type": "code",
   "execution_count": null,
   "metadata": {},
   "outputs": [],
   "source": [
    "%pip install pandas\n",
    "%pip install seaborn"
   ]
  },
  {
   "cell_type": "code",
   "execution_count": null,
   "metadata": {},
   "outputs": [],
   "source": [
    "import pandas as pd\n",
    "import matplotlib.pyplot as plt\n",
    "import seaborn as sns\n",
    "\n",
    "#загрузка данных\n",
    "games = pd.read_csv('games.csv')\n",
    "recommendations = pd.read_csv('recommendations.csv')\n",
    "users = pd.read_csv('users.csv')\n",
    "\n",
    "#просмотр первых строк\n",
    "print(\"Games Data:\")\n",
    "print(games.head())\n",
    "\n",
    "print(\"\\nRecommendations Data:\")\n",
    "print(recommendations.head())\n",
    "\n",
    "print(\"\\nUsers Data:\")\n",
    "print(users.head())"
   ]
  },
  {
   "cell_type": "markdown",
   "metadata": {},
   "source": [
    "### Предобработка данных"
   ]
  },
  {
   "cell_type": "code",
   "execution_count": null,
   "metadata": {},
   "outputs": [],
   "source": [
    "#проверка на пропущенные значения\n",
    "print(\"Пропущенные значения в games.csv:\")\n",
    "print(games.isnull().sum())\n",
    "\n",
    "print(\"\\nПропущенные значения в recommendations.csv:\")\n",
    "print(recommendations.isnull().sum())\n",
    "\n",
    "print(\"\\nПропущенные значения в users.csv:\")\n",
    "print(users.isnull().sum())\n",
    "\n",
    "#приведение даты выпуска к формату datetime\n",
    "games['date_release'] = pd.to_datetime(games['date_release'], errors='coerce')\n",
    "\n",
    "#объединение данных (games и recommendations)\n",
    "merged_data = pd.merge(games, recommendations, on='app_id')\n",
    "\n",
    "#просмотр объединенного датасета\n",
    "print(\"\\nОбъединенный датасет:\")\n",
    "print(merged_data.head())"
   ]
  },
  {
   "cell_type": "markdown",
   "metadata": {},
   "source": [
    "### Анализ данных"
   ]
  },
  {
   "cell_type": "markdown",
   "metadata": {},
   "source": [
    "##### Распределение игр по рейтингам"
   ]
  },
  {
   "cell_type": "code",
   "execution_count": null,
   "metadata": {},
   "outputs": [],
   "source": [
    "rating_counts = games['rating'].value_counts()\n",
    "print(\"Распределение игр по рейтингам:\")\n",
    "print(rating_counts)"
   ]
  },
  {
   "cell_type": "markdown",
   "metadata": {},
   "source": [
    "##### Изменение средних цен на игры по годам"
   ]
  },
  {
   "cell_type": "code",
   "execution_count": null,
   "metadata": {},
   "outputs": [],
   "source": [
    "yearly_prices = games.groupby('date_release')['price_final'].mean()\n",
    "print(\"\\nСредние цены на игры по годам:\")\n",
    "print(yearly_prices)"
   ]
  },
  {
   "cell_type": "markdown",
   "metadata": {},
   "source": [
    "##### Соотношение рекомендаций"
   ]
  },
  {
   "cell_type": "code",
   "execution_count": null,
   "metadata": {},
   "outputs": [],
   "source": [
    "recommendation_counts = merged_data['is_recommended'].value_counts()\n",
    "print(\"\\nСоотношение рекомендаций:\")\n",
    "print(recommendation_counts)"
   ]
  },
  {
   "cell_type": "markdown",
   "metadata": {},
   "source": [
    "##### Топ-10 самых популярных игр по количеству отзывов"
   ]
  },
  {
   "cell_type": "code",
   "execution_count": null,
   "metadata": {},
   "outputs": [],
   "source": [
    "top_games_by_reviews = merged_data.groupby('title')['review_id'].count().nlargest(10)\n",
    "print(\"\\nТоп-10 самых популярных игр по количеству отзывов:\")\n",
    "print(top_games_by_reviews)"
   ]
  },
  {
   "cell_type": "markdown",
   "metadata": {},
   "source": [
    "##### Распределение игр по годам выпуска\n"
   ]
  },
  {
   "cell_type": "code",
   "execution_count": null,
   "metadata": {},
   "outputs": [],
   "source": [
    "games_per_year = games['date_release'].value_counts().sort_index()\n",
    "print(\"\\nРаспределение игр по годам выпуска:\")\n",
    "print(games_per_year)"
   ]
  },
  {
   "cell_type": "markdown",
   "metadata": {},
   "source": [
    "\n",
    "### Визуализация данных"
   ]
  },
  {
   "cell_type": "markdown",
   "metadata": {},
   "source": [
    "##### Настройка стиля Steam"
   ]
  },
  {
   "cell_type": "code",
   "execution_count": null,
   "metadata": {},
   "outputs": [],
   "source": [
    "#цветовая палитра Steam\n",
    "steam_colors = ['#eeeeee', '#66c0f4', '#c6d4df', '#2a475e', '#171a21']\n",
    "\n",
    "#настройка стиля\n",
    "sns.set_style(\"whitegrid\")\n",
    "plt.style.use('seaborn')\n",
    "plt.rcParams['font.family'] = 'Arial'\n",
    "plt.rcParams['font.size'] = 12"
   ]
  },
  {
   "cell_type": "markdown",
   "metadata": {},
   "source": [
    "##### Распределение игр по рейтингам"
   ]
  },
  {
   "cell_type": "code",
   "execution_count": null,
   "metadata": {},
   "outputs": [],
   "source": [
    "plt.figure(figsize=(10, 6))\n",
    "sns.barplot(x=rating_counts.index, y=rating_counts.values, palette=steam_colors)\n",
    "plt.title('Распределение игр по рейтингам', fontsize=16, color=steam_colors[0])\n",
    "plt.xlabel('Рейтинг', fontsize=14, color=steam_colors[0])\n",
    "plt.ylabel('Количество игр', fontsize=14, color=steam_colors[0])\n",
    "plt.xticks(rotation=45, fontsize=12, color=steam_colors[0])\n",
    "plt.yticks(fontsize=12, color=steam_colors[0])\n",
    "plt.gca().set_facecolor(steam_colors[4])\n",
    "plt.gcf().set_facecolor(steam_colors[4])\n",
    "plt.show()"
   ]
  },
  {
   "cell_type": "markdown",
   "metadata": {},
   "source": [
    "##### Изменение средних цен на игры по годам"
   ]
  },
  {
   "cell_type": "code",
   "execution_count": null,
   "metadata": {},
   "outputs": [],
   "source": [
    "plt.figure(figsize=(12, 6))\n",
    "plt.plot(yearly_prices.index, yearly_prices.values, marker='o', color=steam_colors[1], linewidth=0)\n",
    "plt.title('Изменение средних цен на игры по годам', fontsize=16, color=steam_colors[0])\n",
    "plt.xlabel('Год', fontsize=14, color=steam_colors[0])\n",
    "plt.ylabel('Средняя цена ($)', fontsize=14, color=steam_colors[0])\n",
    "plt.xticks(fontsize=12, color=steam_colors[0])\n",
    "plt.yticks(fontsize=12, color=steam_colors[0])\n",
    "plt.grid(True, color=steam_colors[2], linestyle='--', alpha=0.7)\n",
    "plt.gca().set_facecolor(steam_colors[4])\n",
    "plt.gcf().set_facecolor(steam_colors[4])\n",
    "plt.show()"
   ]
  },
  {
   "cell_type": "markdown",
   "metadata": {},
   "source": [
    "##### Соотношение рекомендаций"
   ]
  },
  {
   "cell_type": "code",
   "execution_count": null,
   "metadata": {},
   "outputs": [],
   "source": [
    "plt.figure(figsize=(6, 6))\n",
    "plt.pie(recommendation_counts, labels=['Рекомендуют', 'Не рекомендуют'], autopct='%1.1f%%', \n",
    "        colors=[steam_colors[1], steam_colors[3]], textprops={'color': steam_colors[0], 'fontsize': 12})\n",
    "plt.title('Соотношение рекомендаций', fontsize=16, color=steam_colors[0])\n",
    "plt.gcf().set_facecolor(steam_colors[4])\n",
    "plt.show()"
   ]
  },
  {
   "cell_type": "markdown",
   "metadata": {},
   "source": [
    "##### Топ-10 самых популярных игр по количеству отзывов"
   ]
  },
  {
   "cell_type": "code",
   "execution_count": null,
   "metadata": {},
   "outputs": [],
   "source": [
    "plt.figure(figsize=(10, 6))\n",
    "sns.barplot(x=top_games_by_reviews.values, y=top_games_by_reviews.index, palette=steam_colors)\n",
    "plt.title('Топ-10 игр по количеству отзывов', fontsize=16, color=steam_colors[0])\n",
    "plt.xlabel('Количество отзывов', fontsize=14, color=steam_colors[0])\n",
    "plt.ylabel('Название игры', fontsize=14, color=steam_colors[0])\n",
    "plt.xticks(fontsize=12, color=steam_colors[0])\n",
    "plt.yticks(fontsize=12, color=steam_colors[0])\n",
    "plt.gca().set_facecolor(steam_colors[4])\n",
    "plt.gcf().set_facecolor(steam_colors[4])\n",
    "plt.show()"
   ]
  },
  {
   "cell_type": "markdown",
   "metadata": {},
   "source": [
    "##### Зависимость цены от рейтинга игр"
   ]
  },
  {
   "cell_type": "code",
   "execution_count": null,
   "metadata": {},
   "outputs": [],
   "source": [
    "plt.figure(figsize=(10, 6))\n",
    "sns.scatterplot(\n",
    "    x=games['price_final'], \n",
    "    y=games['positive_ratio'], \n",
    "    hue=games['rating'], \n",
    "    palette=steam_colors, \n",
    "    alpha=0.7\n",
    ")\n",
    "plt.title('Зависимость цены от рейтинга игр', fontsize=16, color=steam_colors[0])\n",
    "plt.xlabel('Цена ($)', fontsize=14, color=steam_colors[0])\n",
    "plt.ylabel('Процент положительных отзывов', fontsize=14, color=steam_colors[0])\n",
    "plt.xticks(fontsize=12, color=steam_colors[0])\n",
    "plt.yticks(fontsize=12, color=steam_colors[0])\n",
    "plt.gca().set_facecolor(steam_colors[4])\n",
    "plt.gcf().set_facecolor(steam_colors[4])\n",
    "plt.legend(title='Рейтинг', fontsize=12)\n",
    "plt.show()"
   ]
  },
  {
   "cell_type": "markdown",
   "metadata": {},
   "source": [
    "##### Распределение игр по годам выпуска"
   ]
  },
  {
   "cell_type": "code",
   "execution_count": null,
   "metadata": {},
   "outputs": [],
   "source": [
    "plt.figure(figsize=(12, 6))\n",
    "plt.plot(games_per_year.index, games_per_year.values, marker='o', color=steam_colors[1], linewidth=0)\n",
    "plt.title('Распределение игр по годам выпуска', fontsize=16, color=steam_colors[0])\n",
    "plt.xlabel('Год', fontsize=14, color=steam_colors[0])\n",
    "plt.ylabel('Количество игр', fontsize=14, color=steam_colors[0])\n",
    "plt.xticks(fontsize=12, color=steam_colors[0])\n",
    "plt.yticks(fontsize=12, color=steam_colors[0])\n",
    "plt.grid(True, color=steam_colors[2], linestyle='--', alpha=0.7)\n",
    "plt.gca().set_facecolor(steam_colors[4])\n",
    "plt.gcf().set_facecolor(steam_colors[4])\n",
    "plt.show()"
   ]
  },
  {
   "cell_type": "markdown",
   "metadata": {},
   "source": [
    "### Сохранение результатов"
   ]
  },
  {
   "cell_type": "code",
   "execution_count": null,
   "metadata": {},
   "outputs": [],
   "source": [
    "#сохранение объединенного датасета\n",
    "#merged_data.to_csv('merged_data.csv', index=False)\n",
    "\n",
    "#сохранение графиков\n",
    "plt.savefig('steam_visualization.png', dpi=300, bbox_inches='tight')"
   ]
  }
 ],
 "metadata": {
  "kernelspec": {
   "display_name": "Python 3",
   "language": "python",
   "name": "python3"
  },
  "language_info": {
   "codemirror_mode": {
    "name": "ipython",
    "version": 3
   },
   "file_extension": ".py",
   "mimetype": "text/x-python",
   "name": "python",
   "nbconvert_exporter": "python",
   "pygments_lexer": "ipython3",
   "version": "3.10.9"
  }
 },
 "nbformat": 4,
 "nbformat_minor": 2
}
